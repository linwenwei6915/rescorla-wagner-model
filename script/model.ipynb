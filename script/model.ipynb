rw = """
data {
  int<lower=1> nSubjects;
  int<lower=1> nTrials;
  int<lower=1> nConditions;
  array[nConditions, nSubjects, nTrials] int<lower=1, upper=2> choice;
  array[nConditions, nSubjects, nTrials] int<lower=-1, upper=1> reward;
  array[nConditions, nSubjects, nTrials] real<lower=0> count;
}

parameters {
  array[nConditions] real bias_mu;
  array[nConditions] real<lower=0> bias_sd;
  array[nConditions] real<lower=0> alpha_mu;
  array[nConditions] real<lower=0> alpha_sd;
  array[nConditions] real<lower=0> beta_mu;
  array[nConditions] real<lower=0> beta_sd;
  array[nConditions, nSubjects] real bias;
  array[nConditions, nSubjects] real<lower=0, upper=1> alpha;
  array[nConditions, nSubjects] real<lower=0> beta;
}

model {
  for (c in 1:nConditions) {
    bias_mu[c]    ~ uniform(-5, 5);
    bias_sd[c]    ~ cauchy(0, 1);
    alpha_mu[c]   ~ uniform(0, 1);
    alpha_sd[c]   ~ cauchy(0, 1);
    beta_mu[c]    ~ uniform(0, 10);
    beta_sd[c]    ~ cauchy(0, 1);

    for (s in 1:nSubjects) {
      bias[c, s]  ~ normal(bias_mu[c], bias_sd[c]);
      alpha[c, s] ~ normal(alpha_mu[c], alpha_sd[c]);
      beta[c, s]  ~ normal(beta_mu[c], beta_sd[c]);

      vector[2] v;
      vector[2] b;  // neg/pos bias
      v = rep_vector(0.0, 2);
      b = rep_vector(0.0, 2);
      b[2] = 1;

      for (t in 1:nTrials) {
        choice[c, s, t] ~ categorical_logit(beta[c, s] * (v + b * count[c, s, t] * bias[c, s]));

        real pe = reward[c, s, t] - v[choice[c, s, t]];

        v[choice[c, s, t]] = v[choice[c, s, t]] + alpha[c, s] * pe;
      }
    }
  }
}

generated quantities {
  array[nConditions, nSubjects] real log_likelihood;

  for (c in 1:nConditions) {
    for (s in 1:nSubjects) {
      vector[nTrials] logprobs;
      logprobs = rep_vector(0.0, nTrials);
      vector[2] v;   // expected value
      vector[2] b;   // bias
      v = rep_vector(0.0, 2);
      b = rep_vector(0.0, 2);
      b[2] = 1;

      for (t in 1:nTrials) {
        logprobs[t] = categorical_logit_lpmf(choice[c, s, t] | (beta[c, s] * (v + b * count[c, s, t] * bias[c, s])));
        real pe = reward[c, s, t] - v[choice[c, s, t]];
        v[choice[c, s, t]] = v[choice[c, s, t]] + alpha[c, s] * pe;
      }
      log_likelihood[c, s] = log_sum_exp(logprobs);

    }
  }
}
"""
